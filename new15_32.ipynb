{
  "nbformat": 4,
  "nbformat_minor": 0,
  "metadata": {
    "colab": {
      "name": "new15_32",
      "provenance": [],
      "collapsed_sections": [],
      "machine_shape": "hm",
      "authorship_tag": "ABX9TyMeZB/hvq+Lc0cIilxDMf+R",
      "include_colab_link": true
    },
    "kernelspec": {
      "name": "python3",
      "display_name": "Python 3"
    }
  },
  "cells": [
    {
      "cell_type": "markdown",
      "metadata": {
        "id": "view-in-github",
        "colab_type": "text"
      },
      "source": [
        "<a href=\"https://colab.research.google.com/github/Gaussiandra/bdimo21/blob/main/new15_32.ipynb\" target=\"_parent\"><img src=\"https://colab.research.google.com/assets/colab-badge.svg\" alt=\"Open In Colab\"/></a>"
      ]
    },
    {
      "cell_type": "code",
      "metadata": {
        "id": "qhYsZcKlYxRL"
      },
      "source": [
        "# reg\r\n",
        "# 0 как таргеты\r\n",
        "# балансировка\r\n",
        "# больше агригаций"
      ],
      "execution_count": 1,
      "outputs": []
    },
    {
      "cell_type": "code",
      "metadata": {
        "colab": {
          "base_uri": "https://localhost:8080/"
        },
        "id": "019SF1oRh5hx",
        "outputId": "bed408db-b560-41fe-bbee-06bfb0f4d1ba"
      },
      "source": [
        "!free -m"
      ],
      "execution_count": 1,
      "outputs": [
        {
          "output_type": "stream",
          "text": [
            "              total        used        free      shared  buff/cache   available\n",
            "Mem:          26124         574       23654           0        1896       25186\n",
            "Swap:             0           0           0\n"
          ],
          "name": "stdout"
        }
      ]
    },
    {
      "cell_type": "code",
      "metadata": {
        "colab": {
          "base_uri": "https://localhost:8080/"
        },
        "id": "KBXjOE_iXES0",
        "outputId": "805bbdf7-ee45-4a91-c034-58742b6dd3cb"
      },
      "source": [
        "!nvidia-smi -L"
      ],
      "execution_count": 2,
      "outputs": [
        {
          "output_type": "stream",
          "text": [
            "NVIDIA-SMI has failed because it couldn't communicate with the NVIDIA driver. Make sure that the latest NVIDIA driver is installed and running.\n",
            "\n"
          ],
          "name": "stdout"
        }
      ]
    },
    {
      "cell_type": "code",
      "metadata": {
        "colab": {
          "base_uri": "https://localhost:8080/"
        },
        "id": "H4xOQlqPcfMy",
        "outputId": "d8f01a65-7e27-4e31-b083-2689452ecae1"
      },
      "source": [
        "from google.colab import drive\n",
        "drive.mount('/content/drive')"
      ],
      "execution_count": 3,
      "outputs": [
        {
          "output_type": "stream",
          "text": [
            "Mounted at /content/drive\n"
          ],
          "name": "stdout"
        }
      ]
    },
    {
      "cell_type": "code",
      "metadata": {
        "id": "-LoHGMFMbX7I"
      },
      "source": [
        "import pandas as pd\n",
        "import os\n",
        "import sys\n",
        "import numpy as np\n",
        "import pandas as pd\n",
        "import sklearn\n",
        "import numpy as np\n",
        "import lightgbm\n",
        "from sklearn.model_selection import train_test_split\n",
        "import joblib\n",
        "import scipy as sp\n",
        "from sklearn.feature_extraction.text import TfidfVectorizer\n",
        "from sklearn.preprocessing import OneHotEncoder, LabelEncoder\n",
        "\n",
        "from sklearn.linear_model import LogisticRegression, Ridge, RidgeClassifier\n",
        "from sklearn.pipeline import make_pipeline\n",
        "\n",
        "from sklearn.metrics import accuracy_score\n",
        "from sklearn.preprocessing import StandardScaler\n",
        "import matplotlib.pyplot as plt\n",
        "import pickle\n",
        "from tqdm.notebook import tqdm\n",
        "import seaborn as sns\n",
        "from tqdm.auto import tqdm\n",
        "sns.set()"
      ],
      "execution_count": 4,
      "outputs": []
    },
    {
      "cell_type": "code",
      "metadata": {
        "id": "rzHSztoFCTFq"
      },
      "source": [
        "sys.path.append('/content/drive/MyDrive/ML/bdimo21/')"
      ],
      "execution_count": 5,
      "outputs": []
    },
    {
      "cell_type": "code",
      "metadata": {
        "colab": {
          "base_uri": "https://localhost:8080/"
        },
        "id": "JzMxo09zXi3x",
        "outputId": "e123606b-8161-4be6-e4c3-0b75436344b3"
      },
      "source": [
        "!pip install catboost"
      ],
      "execution_count": 6,
      "outputs": [
        {
          "output_type": "stream",
          "text": [
            "Collecting catboost\n",
            "\u001b[?25l  Downloading https://files.pythonhosted.org/packages/96/3b/bb419654adcf7efff42ed8a3f84e50c8f236424b7ed1cc8ccd290852e003/catboost-0.24.4-cp37-none-manylinux1_x86_64.whl (65.7MB)\n",
            "\u001b[K     |████████████████████████████████| 65.7MB 58kB/s \n",
            "\u001b[?25hRequirement already satisfied: pandas>=0.24.0 in /usr/local/lib/python3.7/dist-packages (from catboost) (1.1.5)\n",
            "Requirement already satisfied: numpy>=1.16.0 in /usr/local/lib/python3.7/dist-packages (from catboost) (1.19.5)\n",
            "Requirement already satisfied: six in /usr/local/lib/python3.7/dist-packages (from catboost) (1.15.0)\n",
            "Requirement already satisfied: plotly in /usr/local/lib/python3.7/dist-packages (from catboost) (4.4.1)\n",
            "Requirement already satisfied: graphviz in /usr/local/lib/python3.7/dist-packages (from catboost) (0.10.1)\n",
            "Requirement already satisfied: matplotlib in /usr/local/lib/python3.7/dist-packages (from catboost) (3.2.2)\n",
            "Requirement already satisfied: scipy in /usr/local/lib/python3.7/dist-packages (from catboost) (1.4.1)\n",
            "Requirement already satisfied: python-dateutil>=2.7.3 in /usr/local/lib/python3.7/dist-packages (from pandas>=0.24.0->catboost) (2.8.1)\n",
            "Requirement already satisfied: pytz>=2017.2 in /usr/local/lib/python3.7/dist-packages (from pandas>=0.24.0->catboost) (2018.9)\n",
            "Requirement already satisfied: retrying>=1.3.3 in /usr/local/lib/python3.7/dist-packages (from plotly->catboost) (1.3.3)\n",
            "Requirement already satisfied: pyparsing!=2.0.4,!=2.1.2,!=2.1.6,>=2.0.1 in /usr/local/lib/python3.7/dist-packages (from matplotlib->catboost) (2.4.7)\n",
            "Requirement already satisfied: kiwisolver>=1.0.1 in /usr/local/lib/python3.7/dist-packages (from matplotlib->catboost) (1.3.1)\n",
            "Requirement already satisfied: cycler>=0.10 in /usr/local/lib/python3.7/dist-packages (from matplotlib->catboost) (0.10.0)\n",
            "Installing collected packages: catboost\n",
            "Successfully installed catboost-0.24.4\n"
          ],
          "name": "stdout"
        }
      ]
    },
    {
      "cell_type": "code",
      "metadata": {
        "id": "skDtr952_1rj",
        "colab": {
          "base_uri": "https://localhost:8080/"
        },
        "outputId": "4a9c60e7-ee4e-4d34-eb4f-2856c7f592aa"
      },
      "source": [
        "import submission\r\n",
        "import importlib\r\n",
        "importlib.reload(submission)"
      ],
      "execution_count": 7,
      "outputs": [
        {
          "output_type": "execute_result",
          "data": {
            "text/plain": [
              "<module 'submission' from '/content/drive/MyDrive/ML/bdimo21/submission.py'>"
            ]
          },
          "metadata": {
            "tags": []
          },
          "execution_count": 7
        }
      ]
    },
    {
      "cell_type": "code",
      "metadata": {
        "id": "bM8N8sKobX7P"
      },
      "source": [
        "import catboost"
      ],
      "execution_count": 8,
      "outputs": []
    },
    {
      "cell_type": "code",
      "metadata": {
        "id": "yxsr-x18cLvi"
      },
      "source": [
        "global_path = '/content/drive/MyDrive/ML/bdimo21/'"
      ],
      "execution_count": 9,
      "outputs": []
    },
    {
      "cell_type": "code",
      "metadata": {
        "id": "JWh3YuqfbX7P"
      },
      "source": [
        "rheed_long = pd.read_csv(global_path+\"ONTI_Dataset_parsed.csv\", parse_dates=[6])\n",
        "ma_coolness = rheed_long['Coolness_RHEED'].rolling(50).mean()\n",
        "rheed_long['target'] = abs(ma_coolness-ma_coolness.shift(-435))"
      ],
      "execution_count": 10,
      "outputs": []
    },
    {
      "cell_type": "code",
      "metadata": {
        "id": "DcYJvx9zDpwP"
      },
      "source": [
        "df = submission.preprocess(rheed_long, is_train=True)"
      ],
      "execution_count": 11,
      "outputs": []
    },
    {
      "cell_type": "code",
      "metadata": {
        "id": "lIsQr8v9u3JJ"
      },
      "source": [
        "#joblib.dump(df, global_path+'df.pkl')  "
      ],
      "execution_count": 12,
      "outputs": []
    },
    {
      "cell_type": "code",
      "metadata": {
        "id": "GGBmAXDpbX7T"
      },
      "source": [
        "X = df.iloc[:-435]\n",
        "y = (rheed_long['target'].iloc[3500:-435]>5)*1"
      ],
      "execution_count": 13,
      "outputs": []
    },
    {
      "cell_type": "code",
      "metadata": {
        "id": "i8TgBU3E0iEn"
      },
      "source": [
        "y[ma_coolness.shift(-435) == 0] = 1"
      ],
      "execution_count": 14,
      "outputs": []
    },
    {
      "cell_type": "code",
      "metadata": {
        "colab": {
          "base_uri": "https://localhost:8080/"
        },
        "id": "t12J3RpO5dQF",
        "outputId": "50908e41-8526-408b-9b7e-4d442974b8f1"
      },
      "source": [
        "y.value_counts()"
      ],
      "execution_count": 15,
      "outputs": [
        {
          "output_type": "execute_result",
          "data": {
            "text/plain": [
              "0    2241000\n",
              "1     118837\n",
              "Name: target, dtype: int64"
            ]
          },
          "metadata": {
            "tags": []
          },
          "execution_count": 15
        }
      ]
    },
    {
      "cell_type": "code",
      "metadata": {
        "scrolled": true,
        "id": "rUCubguHbX7T",
        "colab": {
          "base_uri": "https://localhost:8080/"
        },
        "outputId": "cc47dea8-90fa-4cb5-d44c-e64e901b4e62"
      },
      "source": [
        "ratio = 5\n",
        "y_sampled = pd.concat((y[y==0].sample(y.value_counts()[1]*ratio, replace=False, random_state=0),\n",
        "                       y[y==1]), axis=0)\n",
        "X_sampled = X.loc[y_sampled.index]\n",
        "\n",
        "#X_train, X_val, y_train, y_val = train_test_split(X_sampled, y_sampled, test_size=0.25, shuffle=True, stratify=y_sampled, random_state=0)\n",
        "model = catboost.CatBoostClassifier(\n",
        "    iterations=1000,\n",
        "    #task_type=\"GPU\",\n",
        "    eval_metric='AUC',\n",
        "    verbose=50\n",
        ")\n",
        "model.fit(X_sampled, y_sampled)#, eval_set=(X_val, y_val))"
      ],
      "execution_count": 16,
      "outputs": [
        {
          "output_type": "stream",
          "text": [
            "Learning rate set to 0.170298\n",
            "0:\ttotal: 635ms\tremaining: 10m 34s\n",
            "50:\ttotal: 31.2s\tremaining: 9m 40s\n",
            "100:\ttotal: 1m\tremaining: 9m 1s\n",
            "150:\ttotal: 1m 31s\tremaining: 8m 31s\n",
            "200:\ttotal: 2m 1s\tremaining: 8m 2s\n",
            "250:\ttotal: 2m 30s\tremaining: 7m 27s\n",
            "300:\ttotal: 3m 1s\tremaining: 7m\n",
            "350:\ttotal: 3m 30s\tremaining: 6m 28s\n",
            "400:\ttotal: 4m\tremaining: 5m 58s\n",
            "450:\ttotal: 4m 28s\tremaining: 5m 27s\n",
            "500:\ttotal: 4m 56s\tremaining: 4m 55s\n",
            "550:\ttotal: 5m 26s\tremaining: 4m 25s\n",
            "600:\ttotal: 5m 55s\tremaining: 3m 56s\n",
            "650:\ttotal: 6m 24s\tremaining: 3m 26s\n",
            "700:\ttotal: 6m 53s\tremaining: 2m 56s\n",
            "750:\ttotal: 7m 23s\tremaining: 2m 26s\n",
            "800:\ttotal: 7m 51s\tremaining: 1m 57s\n",
            "850:\ttotal: 8m 20s\tremaining: 1m 27s\n",
            "900:\ttotal: 8m 48s\tremaining: 58.1s\n",
            "950:\ttotal: 9m 17s\tremaining: 28.7s\n",
            "999:\ttotal: 9m 46s\tremaining: 0us\n"
          ],
          "name": "stdout"
        },
        {
          "output_type": "execute_result",
          "data": {
            "text/plain": [
              "<catboost.core.CatBoostClassifier at 0x7fc33d1e5590>"
            ]
          },
          "metadata": {
            "tags": []
          },
          "execution_count": 16
        }
      ]
    },
    {
      "cell_type": "code",
      "metadata": {
        "id": "X2g1ACaKbX7T"
      },
      "source": [
        "with open(global_path+'model.pkl', 'wb') as f:\n",
        "    pickle.dump(model, f)"
      ],
      "execution_count": 17,
      "outputs": []
    },
    {
      "cell_type": "code",
      "metadata": {
        "id": "QFHi7PH3bX7U"
      },
      "source": [
        "sklearn.metrics.plot_confusion_matrix(model, X_train, y_train, normalize='all')  # doctest: +SKIP\n",
        "plt.show()  # doctest: +SKIP"
      ],
      "execution_count": null,
      "outputs": []
    },
    {
      "cell_type": "code",
      "metadata": {
        "id": "BFhXElBmbX7U",
        "colab": {
          "base_uri": "https://localhost:8080/",
          "height": 285
        },
        "outputId": "362b3f60-923f-40f8-972a-1dfa7c128739"
      },
      "source": [
        "sklearn.metrics.plot_confusion_matrix(model, X_val, y_val,normalize='all')  # doctest: +SKIP\n",
        "plt.show()  # doctest: +SKIP"
      ],
      "execution_count": 54,
      "outputs": [
        {
          "output_type": "display_data",
          "data": {
            "image/png": "[encoded data removed]",
            "text/plain": [
              "<Figure size 432x288 with 2 Axes>"
            ]
          },
          "metadata": {
            "tags": []
          }
        }
      ]
    },
    {
      "cell_type": "code",
      "metadata": {
        "id": "6mm4asGwbX7V",
        "colab": {
          "base_uri": "https://localhost:8080/",
          "height": 301
        },
        "outputId": "5fd280aa-57d3-4429-fccc-a4cf1eed8cdd"
      },
      "source": [
        "fpr, tpr, _ = sklearn.metrics.roc_curve(y_val, model.predict_proba(X_val)[:,1])\n",
        "roc_auc = sklearn.metrics.roc_auc_score(y_val, model.predict_proba(X_val)[:,1])\n",
        "plt.figure()\n",
        "lw = 2\n",
        "plt.plot(fpr, tpr,color='darkorange', lw=lw, label='ROC curve (area = %0.2f)' % roc_auc)\n",
        "plt.plot([0, 1], [0, 1], color='navy', lw=lw, linestyle='--')\n",
        "plt.xlim([0.0, 1.0])\n",
        "plt.ylim([0.0, 1.05])\n",
        "plt.xlabel('False Positive Rate')\n",
        "plt.ylabel('True Positive Rate')\n",
        "plt.title('Receiver operating characteristic example')\n",
        "plt.legend(loc=\"lower right\")\n",
        "plt.show()"
      ],
      "execution_count": 55,
      "outputs": [
        {
          "output_type": "display_data",
          "data": {
            "image/png": "[encoded data removed]",
            "text/plain": [
              "<Figure size 432x288 with 1 Axes>"
            ]
          },
          "metadata": {
            "tags": []
          }
        }
      ]
    },
    {
      "cell_type": "code",
      "metadata": {
        "id": "TAcsaXyabX7V",
        "colab": {
          "base_uri": "https://localhost:8080/",
          "height": 301
        },
        "outputId": "8ca66718-07ec-4475-dbce-6398f07b999a"
      },
      "source": [
        "fpr, tpr, _ = sklearn.metrics.roc_curve(y_train, model.predict_proba(X_train)[:,1])\n",
        "roc_auc = sklearn.metrics.roc_auc_score(y_train, model.predict_proba(X_train)[:,1])\n",
        "plt.figure()\n",
        "lw = 2\n",
        "plt.plot(fpr, tpr,color='darkorange', lw=lw, label='ROC curve (area = %0.2f)' % roc_auc)\n",
        "plt.plot([0, 1], [0, 1], color='navy', lw=lw, linestyle='--')\n",
        "plt.xlim([0.0, 1.0])\n",
        "plt.ylim([0.0, 1.05])\n",
        "plt.xlabel('False Positive Rate')\n",
        "plt.ylabel('True Positive Rate')\n",
        "plt.title('Receiver operating characteristic example')\n",
        "plt.legend(loc=\"lower right\")\n",
        "plt.show()"
      ],
      "execution_count": 56,
      "outputs": [
        {
          "output_type": "display_data",
          "data": {
            "image/png": "[encoded data removed]",
            "text/plain": [
              "<Figure size 432x288 with 1 Axes>"
            ]
          },
          "metadata": {
            "tags": []
          }
        }
      ]
    },
    {
      "cell_type": "code",
      "metadata": {
        "id": "gXWgJ1dybX7V",
        "colab": {
          "base_uri": "https://localhost:8080/",
          "height": 1000
        },
        "outputId": "8dc79be6-ba26-4125-ac86-c1a9f7184c8e"
      },
      "source": [
        "model.get_feature_importance(prettified=True)[:50]"
      ],
      "execution_count": 28,
      "outputs": [
        {
          "output_type": "execute_result",
          "data": {
            "text/html": [
              "<div>\n",
              "<style scoped>\n",
              "    .dataframe tbody tr th:only-of-type {\n",
              "        vertical-align: middle;\n",
              "    }\n",
              "\n",
              "    .dataframe tbody tr th {\n",
              "        vertical-align: top;\n",
              "    }\n",
              "\n",
              "    .dataframe thead th {\n",
              "        text-align: right;\n",
              "    }\n",
              "</style>\n",
              "<table border=\"1\" class=\"dataframe\">\n",
              "  <thead>\n",
              "    <tr style=\"text-align: right;\">\n",
              "      <th></th>\n",
              "      <th>Feature Id</th>\n",
              "      <th>Importances</th>\n",
              "    </tr>\n",
              "  </thead>\n",
              "  <tbody>\n",
              "    <tr>\n",
              "      <th>0</th>\n",
              "      <td>Displayed Rate_std_1000</td>\n",
              "      <td>3.756321</td>\n",
              "    </tr>\n",
              "    <tr>\n",
              "      <th>1</th>\n",
              "      <td>Y FWHM_RHEED_std_1000</td>\n",
              "      <td>3.240630</td>\n",
              "    </tr>\n",
              "    <tr>\n",
              "      <th>2</th>\n",
              "      <td>Coolness_RHEED_mean_50</td>\n",
              "      <td>3.180054</td>\n",
              "    </tr>\n",
              "    <tr>\n",
              "      <th>3</th>\n",
              "      <td>Coolness_RHEED_std_1000</td>\n",
              "      <td>2.869192</td>\n",
              "    </tr>\n",
              "    <tr>\n",
              "      <th>4</th>\n",
              "      <td>Source Power_std_1000</td>\n",
              "      <td>2.357032</td>\n",
              "    </tr>\n",
              "    <tr>\n",
              "      <th>5</th>\n",
              "      <td>R FWHM_RHEED_std_1000</td>\n",
              "      <td>2.156079</td>\n",
              "    </tr>\n",
              "    <tr>\n",
              "      <th>6</th>\n",
              "      <td>X FWHM_RHEED_std_1000</td>\n",
              "      <td>2.126598</td>\n",
              "    </tr>\n",
              "    <tr>\n",
              "      <th>7</th>\n",
              "      <td>Crystal Position_std_500</td>\n",
              "      <td>1.688467</td>\n",
              "    </tr>\n",
              "    <tr>\n",
              "      <th>8</th>\n",
              "      <td>Speed_RHEED_std_1000</td>\n",
              "      <td>1.673478</td>\n",
              "    </tr>\n",
              "    <tr>\n",
              "      <th>9</th>\n",
              "      <td>Raw Rate_std_1000</td>\n",
              "      <td>1.547379</td>\n",
              "    </tr>\n",
              "    <tr>\n",
              "      <th>10</th>\n",
              "      <td>R FWHM_RHEED_mean_1000</td>\n",
              "      <td>1.451253</td>\n",
              "    </tr>\n",
              "    <tr>\n",
              "      <th>11</th>\n",
              "      <td>Coolness_RHEED_median_50</td>\n",
              "      <td>1.389063</td>\n",
              "    </tr>\n",
              "    <tr>\n",
              "      <th>12</th>\n",
              "      <td>Coolness_RHEED_std_500</td>\n",
              "      <td>1.327379</td>\n",
              "    </tr>\n",
              "    <tr>\n",
              "      <th>13</th>\n",
              "      <td>Raw Rate_std_500</td>\n",
              "      <td>1.294279</td>\n",
              "    </tr>\n",
              "    <tr>\n",
              "      <th>14</th>\n",
              "      <td>Fundamental Freq_median_1000</td>\n",
              "      <td>1.274877</td>\n",
              "    </tr>\n",
              "    <tr>\n",
              "      <th>15</th>\n",
              "      <td>Fundamental Freq_1000</td>\n",
              "      <td>1.256811</td>\n",
              "    </tr>\n",
              "    <tr>\n",
              "      <th>16</th>\n",
              "      <td>Filtered Rate_std_1000</td>\n",
              "      <td>1.250167</td>\n",
              "    </tr>\n",
              "    <tr>\n",
              "      <th>17</th>\n",
              "      <td>Filtered Rate_std_500</td>\n",
              "      <td>1.231797</td>\n",
              "    </tr>\n",
              "    <tr>\n",
              "      <th>18</th>\n",
              "      <td>Coolness_RHEED_mean_1000</td>\n",
              "      <td>1.214042</td>\n",
              "    </tr>\n",
              "    <tr>\n",
              "      <th>19</th>\n",
              "      <td>Source Power_mean_1000</td>\n",
              "      <td>1.209462</td>\n",
              "    </tr>\n",
              "    <tr>\n",
              "      <th>20</th>\n",
              "      <td>Source Power_median_1000</td>\n",
              "      <td>1.130326</td>\n",
              "    </tr>\n",
              "    <tr>\n",
              "      <th>21</th>\n",
              "      <td>Coolness_RHEED_mean_500</td>\n",
              "      <td>1.119834</td>\n",
              "    </tr>\n",
              "    <tr>\n",
              "      <th>22</th>\n",
              "      <td>R FWHM_RHEED_median_1000</td>\n",
              "      <td>1.084102</td>\n",
              "    </tr>\n",
              "    <tr>\n",
              "      <th>23</th>\n",
              "      <td>X FWHM_RHEED_mean_1000</td>\n",
              "      <td>1.082615</td>\n",
              "    </tr>\n",
              "    <tr>\n",
              "      <th>24</th>\n",
              "      <td>R FWHM_RHEED_std_500</td>\n",
              "      <td>1.075880</td>\n",
              "    </tr>\n",
              "    <tr>\n",
              "      <th>25</th>\n",
              "      <td>Crystal Position_mean_1000</td>\n",
              "      <td>1.043004</td>\n",
              "    </tr>\n",
              "    <tr>\n",
              "      <th>26</th>\n",
              "      <td>Coolness_RHEED_std_250</td>\n",
              "      <td>1.000342</td>\n",
              "    </tr>\n",
              "    <tr>\n",
              "      <th>27</th>\n",
              "      <td>Fundamental Freq_100</td>\n",
              "      <td>0.923996</td>\n",
              "    </tr>\n",
              "    <tr>\n",
              "      <th>28</th>\n",
              "      <td>Source Power_median_500</td>\n",
              "      <td>0.900113</td>\n",
              "    </tr>\n",
              "    <tr>\n",
              "      <th>29</th>\n",
              "      <td>Fundamental Freq_50</td>\n",
              "      <td>0.872463</td>\n",
              "    </tr>\n",
              "    <tr>\n",
              "      <th>30</th>\n",
              "      <td>Coolness_RHEED_std_50</td>\n",
              "      <td>0.866434</td>\n",
              "    </tr>\n",
              "    <tr>\n",
              "      <th>31</th>\n",
              "      <td>Raw Rate_std_250</td>\n",
              "      <td>0.863276</td>\n",
              "    </tr>\n",
              "    <tr>\n",
              "      <th>32</th>\n",
              "      <td>Fundamental Freq_std_500</td>\n",
              "      <td>0.834505</td>\n",
              "    </tr>\n",
              "    <tr>\n",
              "      <th>33</th>\n",
              "      <td>Coolness_RHEED_mean_100</td>\n",
              "      <td>0.823483</td>\n",
              "    </tr>\n",
              "    <tr>\n",
              "      <th>34</th>\n",
              "      <td>Coolness_RHEED_median_1000</td>\n",
              "      <td>0.814315</td>\n",
              "    </tr>\n",
              "    <tr>\n",
              "      <th>35</th>\n",
              "      <td>Fundamental Freq_median_100</td>\n",
              "      <td>0.808940</td>\n",
              "    </tr>\n",
              "    <tr>\n",
              "      <th>36</th>\n",
              "      <td>Speed_RHEED_std_500</td>\n",
              "      <td>0.807341</td>\n",
              "    </tr>\n",
              "    <tr>\n",
              "      <th>37</th>\n",
              "      <td>Speed_RHEED_median_500</td>\n",
              "      <td>0.807236</td>\n",
              "    </tr>\n",
              "    <tr>\n",
              "      <th>38</th>\n",
              "      <td>Crystal Position_std_100</td>\n",
              "      <td>0.777570</td>\n",
              "    </tr>\n",
              "    <tr>\n",
              "      <th>39</th>\n",
              "      <td>Crystal Position_median_1000</td>\n",
              "      <td>0.757022</td>\n",
              "    </tr>\n",
              "    <tr>\n",
              "      <th>40</th>\n",
              "      <td>Speed_RHEED_median_1000</td>\n",
              "      <td>0.752614</td>\n",
              "    </tr>\n",
              "    <tr>\n",
              "      <th>41</th>\n",
              "      <td>Y FWHM_RHEED_std_250</td>\n",
              "      <td>0.750578</td>\n",
              "    </tr>\n",
              "    <tr>\n",
              "      <th>42</th>\n",
              "      <td>Fundamental Freq_mean_1000</td>\n",
              "      <td>0.704572</td>\n",
              "    </tr>\n",
              "    <tr>\n",
              "      <th>43</th>\n",
              "      <td>R FWHM_RHEED_median_500</td>\n",
              "      <td>0.685979</td>\n",
              "    </tr>\n",
              "    <tr>\n",
              "      <th>44</th>\n",
              "      <td>Displayed Rate_std_500</td>\n",
              "      <td>0.665856</td>\n",
              "    </tr>\n",
              "    <tr>\n",
              "      <th>45</th>\n",
              "      <td>Source Power_std_500</td>\n",
              "      <td>0.664553</td>\n",
              "    </tr>\n",
              "    <tr>\n",
              "      <th>46</th>\n",
              "      <td>X FWHM_RHEED_std_500</td>\n",
              "      <td>0.646288</td>\n",
              "    </tr>\n",
              "    <tr>\n",
              "      <th>47</th>\n",
              "      <td>Y FWHM_RHEED_mean_1000</td>\n",
              "      <td>0.644992</td>\n",
              "    </tr>\n",
              "    <tr>\n",
              "      <th>48</th>\n",
              "      <td>R FWHM_RHEED_mean_500</td>\n",
              "      <td>0.643028</td>\n",
              "    </tr>\n",
              "    <tr>\n",
              "      <th>49</th>\n",
              "      <td>Fundamental Freq_median_50</td>\n",
              "      <td>0.640793</td>\n",
              "    </tr>\n",
              "  </tbody>\n",
              "</table>\n",
              "</div>"
            ],
            "text/plain": [
              "                      Feature Id  Importances\n",
              "0        Displayed Rate_std_1000     3.756321\n",
              "1          Y FWHM_RHEED_std_1000     3.240630\n",
              "2         Coolness_RHEED_mean_50     3.180054\n",
              "3        Coolness_RHEED_std_1000     2.869192\n",
              "4          Source Power_std_1000     2.357032\n",
              "5          R FWHM_RHEED_std_1000     2.156079\n",
              "6          X FWHM_RHEED_std_1000     2.126598\n",
              "7       Crystal Position_std_500     1.688467\n",
              "8           Speed_RHEED_std_1000     1.673478\n",
              "9              Raw Rate_std_1000     1.547379\n",
              "10        R FWHM_RHEED_mean_1000     1.451253\n",
              "11      Coolness_RHEED_median_50     1.389063\n",
              "12        Coolness_RHEED_std_500     1.327379\n",
              "13              Raw Rate_std_500     1.294279\n",
              "14  Fundamental Freq_median_1000     1.274877\n",
              "15         Fundamental Freq_1000     1.256811\n",
              "16        Filtered Rate_std_1000     1.250167\n",
              "17         Filtered Rate_std_500     1.231797\n",
              "18      Coolness_RHEED_mean_1000     1.214042\n",
              "19        Source Power_mean_1000     1.209462\n",
              "20      Source Power_median_1000     1.130326\n",
              "21       Coolness_RHEED_mean_500     1.119834\n",
              "22      R FWHM_RHEED_median_1000     1.084102\n",
              "23        X FWHM_RHEED_mean_1000     1.082615\n",
              "24          R FWHM_RHEED_std_500     1.075880\n",
              "25    Crystal Position_mean_1000     1.043004\n",
              "26        Coolness_RHEED_std_250     1.000342\n",
              "27          Fundamental Freq_100     0.923996\n",
              "28       Source Power_median_500     0.900113\n",
              "29           Fundamental Freq_50     0.872463\n",
              "30         Coolness_RHEED_std_50     0.866434\n",
              "31              Raw Rate_std_250     0.863276\n",
              "32      Fundamental Freq_std_500     0.834505\n",
              "33       Coolness_RHEED_mean_100     0.823483\n",
              "34    Coolness_RHEED_median_1000     0.814315\n",
              "35   Fundamental Freq_median_100     0.808940\n",
              "36           Speed_RHEED_std_500     0.807341\n",
              "37        Speed_RHEED_median_500     0.807236\n",
              "38      Crystal Position_std_100     0.777570\n",
              "39  Crystal Position_median_1000     0.757022\n",
              "40       Speed_RHEED_median_1000     0.752614\n",
              "41          Y FWHM_RHEED_std_250     0.750578\n",
              "42    Fundamental Freq_mean_1000     0.704572\n",
              "43       R FWHM_RHEED_median_500     0.685979\n",
              "44        Displayed Rate_std_500     0.665856\n",
              "45          Source Power_std_500     0.664553\n",
              "46          X FWHM_RHEED_std_500     0.646288\n",
              "47        Y FWHM_RHEED_mean_1000     0.644992\n",
              "48         R FWHM_RHEED_mean_500     0.643028\n",
              "49    Fundamental Freq_median_50     0.640793"
            ]
          },
          "metadata": {
            "tags": []
          },
          "execution_count": 28
        }
      ]
    },
    {
      "cell_type": "code",
      "metadata": {
        "id": "PMYeg5I_N-DM"
      },
      "source": [
        "pr = submission.Predictor()"
      ],
      "execution_count": 23,
      "outputs": []
    },
    {
      "cell_type": "code",
      "metadata": {
        "colab": {
          "base_uri": "https://localhost:8080/"
        },
        "id": "f5Ry_5CqOcgb",
        "outputId": "ebbbb844-51a8-4342-b66c-a38678f8a2ff"
      },
      "source": [
        "pr.forecast(rheed_long.iloc[-10000:])"
      ],
      "execution_count": 24,
      "outputs": [
        {
          "output_type": "execute_result",
          "data": {
            "text/plain": [
              "0.0001667871186037833"
            ]
          },
          "metadata": {
            "tags": []
          },
          "execution_count": 24
        }
      ]
    }
  ]
}