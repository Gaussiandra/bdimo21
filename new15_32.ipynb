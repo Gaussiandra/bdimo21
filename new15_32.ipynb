{
  "nbformat": 4,
  "nbformat_minor": 0,
  "metadata": {
    "colab": {
      "name": "new15_32",
      "provenance": [],
      "collapsed_sections": [],
      "machine_shape": "hm",
      "authorship_tag": "ABX9TyOipRyybR5s0C5sPIxCFNaD",
      "include_colab_link": true
    },
    "kernelspec": {
      "name": "python3",
      "display_name": "Python 3"
    },
    "accelerator": "GPU"
  },
  "cells": [
    {
      "cell_type": "markdown",
      "metadata": {
        "id": "view-in-github",
        "colab_type": "text"
      },
      "source": [
        "<a href=\"https://colab.research.google.com/github/Gaussiandra/bdimo21/blob/main/new15_32.ipynb\" target=\"_parent\"><img src=\"https://colab.research.google.com/assets/colab-badge.svg\" alt=\"Open In Colab\"/></a>"
      ]
    },
    {
      "cell_type": "code",
      "metadata": {
        "id": "qhYsZcKlYxRL"
      },
      "source": [
        "# reg\r\n",
        "# 0 как таргеты\r\n",
        "# балансировка\r\n",
        "# больше агригаций"
      ],
      "execution_count": 1,
      "outputs": []
    },
    {
      "cell_type": "code",
      "metadata": {
        "id": "019SF1oRh5hx",
        "colab": {
          "base_uri": "https://localhost:8080/"
        },
        "outputId": "982b1f80-6feb-4047-b675-0a618c43c0a9"
      },
      "source": [
        "!free -m"
      ],
      "execution_count": 1,
      "outputs": [
        {
          "output_type": "stream",
          "text": [
            "              total        used        free      shared  buff/cache   available\n",
            "Mem:          26124         614       23489           0        2021       25152\n",
            "Swap:             0           0           0\n"
          ],
          "name": "stdout"
        }
      ]
    },
    {
      "cell_type": "code",
      "metadata": {
        "colab": {
          "base_uri": "https://localhost:8080/"
        },
        "id": "KBXjOE_iXES0",
        "outputId": "71c6db49-7f50-4e34-9d39-15e9d444b0b6"
      },
      "source": [
        "!nvidia-smi -L"
      ],
      "execution_count": 2,
      "outputs": [
        {
          "output_type": "stream",
          "text": [
            "GPU 0: Tesla P100-PCIE-16GB (UUID: GPU-5090aae0-7224-5e3c-e7dd-a86ef96b7c42)\n"
          ],
          "name": "stdout"
        }
      ]
    },
    {
      "cell_type": "code",
      "metadata": {
        "colab": {
          "base_uri": "https://localhost:8080/"
        },
        "id": "JzMxo09zXi3x",
        "outputId": "0dfd8fee-ed3e-4dfe-c7a2-d69464923761"
      },
      "source": [
        "!pip install catboost"
      ],
      "execution_count": 3,
      "outputs": [
        {
          "output_type": "stream",
          "text": [
            "Collecting catboost\n",
            "\u001b[?25l  Downloading https://files.pythonhosted.org/packages/96/3b/bb419654adcf7efff42ed8a3f84e50c8f236424b7ed1cc8ccd290852e003/catboost-0.24.4-cp37-none-manylinux1_x86_64.whl (65.7MB)\n",
            "\u001b[K     |████████████████████████████████| 65.7MB 43kB/s \n",
            "\u001b[?25hRequirement already satisfied: graphviz in /usr/local/lib/python3.7/dist-packages (from catboost) (0.10.1)\n",
            "Requirement already satisfied: plotly in /usr/local/lib/python3.7/dist-packages (from catboost) (4.4.1)\n",
            "Requirement already satisfied: pandas>=0.24.0 in /usr/local/lib/python3.7/dist-packages (from catboost) (1.1.5)\n",
            "Requirement already satisfied: scipy in /usr/local/lib/python3.7/dist-packages (from catboost) (1.4.1)\n",
            "Requirement already satisfied: matplotlib in /usr/local/lib/python3.7/dist-packages (from catboost) (3.2.2)\n",
            "Requirement already satisfied: six in /usr/local/lib/python3.7/dist-packages (from catboost) (1.15.0)\n",
            "Requirement already satisfied: numpy>=1.16.0 in /usr/local/lib/python3.7/dist-packages (from catboost) (1.19.5)\n",
            "Requirement already satisfied: retrying>=1.3.3 in /usr/local/lib/python3.7/dist-packages (from plotly->catboost) (1.3.3)\n",
            "Requirement already satisfied: pytz>=2017.2 in /usr/local/lib/python3.7/dist-packages (from pandas>=0.24.0->catboost) (2018.9)\n",
            "Requirement already satisfied: python-dateutil>=2.7.3 in /usr/local/lib/python3.7/dist-packages (from pandas>=0.24.0->catboost) (2.8.1)\n",
            "Requirement already satisfied: pyparsing!=2.0.4,!=2.1.2,!=2.1.6,>=2.0.1 in /usr/local/lib/python3.7/dist-packages (from matplotlib->catboost) (2.4.7)\n",
            "Requirement already satisfied: kiwisolver>=1.0.1 in /usr/local/lib/python3.7/dist-packages (from matplotlib->catboost) (1.3.1)\n",
            "Requirement already satisfied: cycler>=0.10 in /usr/local/lib/python3.7/dist-packages (from matplotlib->catboost) (0.10.0)\n",
            "Installing collected packages: catboost\n",
            "Successfully installed catboost-0.24.4\n"
          ],
          "name": "stdout"
        }
      ]
    },
    {
      "cell_type": "code",
      "metadata": {
        "id": "H4xOQlqPcfMy",
        "colab": {
          "base_uri": "https://localhost:8080/"
        },
        "outputId": "4cd0ab6a-cb23-49de-ac2d-e15420c3cd52"
      },
      "source": [
        "from google.colab import drive\n",
        "drive.mount('/content/drive')"
      ],
      "execution_count": 1,
      "outputs": [
        {
          "output_type": "stream",
          "text": [
            "Drive already mounted at /content/drive; to attempt to forcibly remount, call drive.mount(\"/content/drive\", force_remount=True).\n"
          ],
          "name": "stdout"
        }
      ]
    },
    {
      "cell_type": "code",
      "metadata": {
        "id": "-LoHGMFMbX7I"
      },
      "source": [
        "import pandas as pd\n",
        "import os\n",
        "import sys\n",
        "import numpy as np\n",
        "import pandas as pd\n",
        "import sklearn\n",
        "import numpy as np\n",
        "import lightgbm\n",
        "from sklearn.model_selection import train_test_split\n",
        "import joblib\n",
        "import scipy as sp\n",
        "from sklearn.feature_extraction.text import TfidfVectorizer\n",
        "from sklearn.preprocessing import OneHotEncoder, LabelEncoder\n",
        "\n",
        "from sklearn.linear_model import LogisticRegression, Ridge, RidgeClassifier\n",
        "from sklearn.pipeline import make_pipeline\n",
        "from scipy.special import softmax\n",
        "import matplotlib.pyplot as plt\n",
        "from sklearn.metrics import accuracy_score\n",
        "from sklearn.preprocessing import StandardScaler\n",
        "import matplotlib.pyplot as plt\n",
        "import pickle\n",
        "from tqdm.notebook import tqdm\n",
        "import seaborn as sns\n",
        "from tqdm.auto import tqdm\n",
        "sns.set()"
      ],
      "execution_count": 2,
      "outputs": []
    },
    {
      "cell_type": "code",
      "metadata": {
        "id": "rzHSztoFCTFq"
      },
      "source": [
        "sys.path.append('/content/drive/MyDrive/ML/bdimo21/')"
      ],
      "execution_count": 3,
      "outputs": []
    },
    {
      "cell_type": "code",
      "metadata": {
        "id": "skDtr952_1rj",
        "colab": {
          "base_uri": "https://localhost:8080/"
        },
        "outputId": "41c7ab2c-ed95-436f-b2a4-269262a575fb"
      },
      "source": [
        "import submission\r\n",
        "import importlib\r\n",
        "importlib.reload(submission)"
      ],
      "execution_count": 4,
      "outputs": [
        {
          "output_type": "execute_result",
          "data": {
            "text/plain": [
              "<module 'submission' from '/content/drive/MyDrive/ML/bdimo21/submission.py'>"
            ]
          },
          "metadata": {
            "tags": []
          },
          "execution_count": 4
        }
      ]
    },
    {
      "cell_type": "code",
      "metadata": {
        "id": "bM8N8sKobX7P"
      },
      "source": [
        "import catboost"
      ],
      "execution_count": 5,
      "outputs": []
    },
    {
      "cell_type": "code",
      "metadata": {
        "id": "yxsr-x18cLvi"
      },
      "source": [
        "global_path = '/content/drive/MyDrive/ML/bdimo21/'"
      ],
      "execution_count": 6,
      "outputs": []
    },
    {
      "cell_type": "code",
      "metadata": {
        "id": "JWh3YuqfbX7P"
      },
      "source": [
        "rheed_long = pd.read_csv(global_path+\"ONTI_Dataset_parsed.csv\", parse_dates=[6])\n",
        "ma_coolness = rheed_long['Coolness_RHEED'].rolling(50).mean()\n",
        "rheed_long['target'] = abs(ma_coolness-ma_coolness.shift(-435))"
      ],
      "execution_count": 7,
      "outputs": []
    },
    {
      "cell_type": "code",
      "metadata": {
        "id": "DcYJvx9zDpwP"
      },
      "source": [
        "df = submission.preprocess(rheed_long, is_train=True)"
      ],
      "execution_count": 8,
      "outputs": []
    },
    {
      "cell_type": "code",
      "metadata": {
        "id": "xYPFerG7fOlb",
        "colab": {
          "base_uri": "https://localhost:8080/"
        },
        "outputId": "13048ece-1193-404f-b0c4-5425f6e445bf"
      },
      "source": [
        "df.columns.tolist()"
      ],
      "execution_count": 9,
      "outputs": [
        {
          "output_type": "execute_result",
          "data": {
            "text/plain": [
              "['Coolness_RHEED',\n",
              " 'R FWHM_RHEED',\n",
              " 'X FWHM_RHEED',\n",
              " 'Y FWHM_RHEED',\n",
              " 'Filtered Rate',\n",
              " 'Raw Rate',\n",
              " 'Source Power',\n",
              " 'Crystal Position',\n",
              " 'Fundamental Freq',\n",
              " 'Speed_RHEED',\n",
              " 'Length_RHEED',\n",
              " 'Speed',\n",
              " 'Coolness_RHEED_mean_75',\n",
              " 'Coolness_RHEED_std_75',\n",
              " 'Coolness_RHEED_median_75',\n",
              " 'Coolness_RHEED_min_75',\n",
              " 'Coolness_RHEED_max_75',\n",
              " 'R FWHM_RHEED_mean_75',\n",
              " 'R FWHM_RHEED_std_75',\n",
              " 'R FWHM_RHEED_median_75',\n",
              " 'R FWHM_RHEED_min_75',\n",
              " 'R FWHM_RHEED_max_75',\n",
              " 'X FWHM_RHEED_mean_75',\n",
              " 'X FWHM_RHEED_std_75',\n",
              " 'X FWHM_RHEED_median_75',\n",
              " 'X FWHM_RHEED_min_75',\n",
              " 'X FWHM_RHEED_max_75',\n",
              " 'Y FWHM_RHEED_mean_75',\n",
              " 'Y FWHM_RHEED_std_75',\n",
              " 'Y FWHM_RHEED_median_75',\n",
              " 'Y FWHM_RHEED_min_75',\n",
              " 'Y FWHM_RHEED_max_75',\n",
              " 'Filtered Rate_mean_75',\n",
              " 'Filtered Rate_std_75',\n",
              " 'Raw Rate_mean_75',\n",
              " 'Raw Rate_std_75',\n",
              " 'Source Power_mean_75',\n",
              " 'Source Power_std_75',\n",
              " 'Crystal Position_mean_75',\n",
              " 'Crystal Position_std_75',\n",
              " 'Fundamental Freq_mean_75',\n",
              " 'Fundamental Freq_std_75',\n",
              " 'Speed_RHEED_mean_75',\n",
              " 'Speed_RHEED_std_75',\n",
              " 'Length_RHEED_mean_75',\n",
              " 'Length_RHEED_std_75',\n",
              " 'Length_RHEED_median_75',\n",
              " 'Length_RHEED_min_75',\n",
              " 'Length_RHEED_max_75',\n",
              " 'Speed_mean_75',\n",
              " 'Speed_std_75',\n",
              " 'Coolness_RHEED_mean_75_back_75',\n",
              " 'Coolness_RHEED_std_75_back_75',\n",
              " 'Length_RHEED_mean_75_back_75',\n",
              " 'Length_RHEED_std_75_back_75',\n",
              " 'R FWHM_RHEED_mean_75_back_75',\n",
              " 'R FWHM_RHEED_std_75_back_75',\n",
              " 'X FWHM_RHEED_mean_75_back_75',\n",
              " 'X FWHM_RHEED_std_75_back_75',\n",
              " 'Y FWHM_RHEED_mean_75_back_75',\n",
              " 'Y FWHM_RHEED_std_75_back_75',\n",
              " 'Coolness_RHEED_mean_75_back_150',\n",
              " 'Coolness_RHEED_std_75_back_150',\n",
              " 'Length_RHEED_mean_75_back_150',\n",
              " 'Length_RHEED_std_75_back_150',\n",
              " 'R FWHM_RHEED_mean_75_back_150',\n",
              " 'R FWHM_RHEED_std_75_back_150',\n",
              " 'X FWHM_RHEED_mean_75_back_150',\n",
              " 'X FWHM_RHEED_std_75_back_150',\n",
              " 'Y FWHM_RHEED_mean_75_back_150',\n",
              " 'Y FWHM_RHEED_std_75_back_150',\n",
              " 'Coolness_RHEED_mean_75_back_225',\n",
              " 'Coolness_RHEED_std_75_back_225',\n",
              " 'Length_RHEED_mean_75_back_225',\n",
              " 'Length_RHEED_std_75_back_225',\n",
              " 'R FWHM_RHEED_mean_75_back_225',\n",
              " 'R FWHM_RHEED_std_75_back_225',\n",
              " 'X FWHM_RHEED_mean_75_back_225',\n",
              " 'X FWHM_RHEED_std_75_back_225',\n",
              " 'Y FWHM_RHEED_mean_75_back_225',\n",
              " 'Y FWHM_RHEED_std_75_back_225',\n",
              " 'Coolness_RHEED_mean_75_back_300',\n",
              " 'Coolness_RHEED_std_75_back_300',\n",
              " 'Length_RHEED_mean_75_back_300',\n",
              " 'Length_RHEED_std_75_back_300',\n",
              " 'R FWHM_RHEED_mean_75_back_300',\n",
              " 'R FWHM_RHEED_std_75_back_300',\n",
              " 'X FWHM_RHEED_mean_75_back_300',\n",
              " 'X FWHM_RHEED_std_75_back_300',\n",
              " 'Y FWHM_RHEED_mean_75_back_300',\n",
              " 'Y FWHM_RHEED_std_75_back_300',\n",
              " 'Coolness_RHEED_mean_75_back_375',\n",
              " 'Coolness_RHEED_std_75_back_375',\n",
              " 'Length_RHEED_mean_75_back_375',\n",
              " 'Length_RHEED_std_75_back_375',\n",
              " 'R FWHM_RHEED_mean_75_back_375',\n",
              " 'R FWHM_RHEED_std_75_back_375',\n",
              " 'X FWHM_RHEED_mean_75_back_375',\n",
              " 'X FWHM_RHEED_std_75_back_375',\n",
              " 'Y FWHM_RHEED_mean_75_back_375',\n",
              " 'Y FWHM_RHEED_std_75_back_375',\n",
              " 'Coolness_RHEED_mean_75_back_450',\n",
              " 'Coolness_RHEED_std_75_back_450',\n",
              " 'Length_RHEED_mean_75_back_450',\n",
              " 'Length_RHEED_std_75_back_450',\n",
              " 'R FWHM_RHEED_mean_75_back_450',\n",
              " 'R FWHM_RHEED_std_75_back_450',\n",
              " 'X FWHM_RHEED_mean_75_back_450',\n",
              " 'X FWHM_RHEED_std_75_back_450',\n",
              " 'Y FWHM_RHEED_mean_75_back_450',\n",
              " 'Y FWHM_RHEED_std_75_back_450',\n",
              " 'Coolness_RHEED_mean_75_back_525',\n",
              " 'Coolness_RHEED_std_75_back_525',\n",
              " 'Length_RHEED_mean_75_back_525',\n",
              " 'Length_RHEED_std_75_back_525',\n",
              " 'R FWHM_RHEED_mean_75_back_525',\n",
              " 'R FWHM_RHEED_std_75_back_525',\n",
              " 'X FWHM_RHEED_mean_75_back_525',\n",
              " 'X FWHM_RHEED_std_75_back_525',\n",
              " 'Y FWHM_RHEED_mean_75_back_525',\n",
              " 'Y FWHM_RHEED_std_75_back_525',\n",
              " 'Coolness_RHEED_mean_500',\n",
              " 'Coolness_RHEED_std_500',\n",
              " 'Coolness_RHEED_median_500',\n",
              " 'Coolness_RHEED_min_500',\n",
              " 'Coolness_RHEED_max_500',\n",
              " 'R FWHM_RHEED_mean_500',\n",
              " 'R FWHM_RHEED_std_500',\n",
              " 'R FWHM_RHEED_median_500',\n",
              " 'R FWHM_RHEED_min_500',\n",
              " 'R FWHM_RHEED_max_500',\n",
              " 'X FWHM_RHEED_mean_500',\n",
              " 'X FWHM_RHEED_std_500',\n",
              " 'X FWHM_RHEED_median_500',\n",
              " 'X FWHM_RHEED_min_500',\n",
              " 'X FWHM_RHEED_max_500',\n",
              " 'Y FWHM_RHEED_mean_500',\n",
              " 'Y FWHM_RHEED_std_500',\n",
              " 'Y FWHM_RHEED_median_500',\n",
              " 'Y FWHM_RHEED_min_500',\n",
              " 'Y FWHM_RHEED_max_500',\n",
              " 'Filtered Rate_mean_500',\n",
              " 'Filtered Rate_std_500',\n",
              " 'Raw Rate_mean_500',\n",
              " 'Raw Rate_std_500',\n",
              " 'Source Power_mean_500',\n",
              " 'Source Power_std_500',\n",
              " 'Crystal Position_mean_500',\n",
              " 'Crystal Position_std_500',\n",
              " 'Fundamental Freq_mean_500',\n",
              " 'Fundamental Freq_std_500',\n",
              " 'Speed_RHEED_mean_500',\n",
              " 'Speed_RHEED_std_500',\n",
              " 'Length_RHEED_mean_500',\n",
              " 'Length_RHEED_std_500',\n",
              " 'Length_RHEED_median_500',\n",
              " 'Length_RHEED_min_500',\n",
              " 'Length_RHEED_max_500',\n",
              " 'Speed_mean_500',\n",
              " 'Speed_std_500',\n",
              " 'Coolness_RHEED_mean_1500',\n",
              " 'Coolness_RHEED_std_1500',\n",
              " 'Coolness_RHEED_median_1500',\n",
              " 'Coolness_RHEED_min_1500',\n",
              " 'Coolness_RHEED_max_1500',\n",
              " 'R FWHM_RHEED_mean_1500',\n",
              " 'R FWHM_RHEED_std_1500',\n",
              " 'R FWHM_RHEED_median_1500',\n",
              " 'R FWHM_RHEED_min_1500',\n",
              " 'R FWHM_RHEED_max_1500',\n",
              " 'X FWHM_RHEED_mean_1500',\n",
              " 'X FWHM_RHEED_std_1500',\n",
              " 'X FWHM_RHEED_median_1500',\n",
              " 'X FWHM_RHEED_min_1500',\n",
              " 'X FWHM_RHEED_max_1500',\n",
              " 'Y FWHM_RHEED_mean_1500',\n",
              " 'Y FWHM_RHEED_std_1500',\n",
              " 'Y FWHM_RHEED_median_1500',\n",
              " 'Y FWHM_RHEED_min_1500',\n",
              " 'Y FWHM_RHEED_max_1500',\n",
              " 'Filtered Rate_mean_1500',\n",
              " 'Filtered Rate_std_1500',\n",
              " 'Raw Rate_mean_1500',\n",
              " 'Raw Rate_std_1500',\n",
              " 'Source Power_mean_1500',\n",
              " 'Source Power_std_1500',\n",
              " 'Crystal Position_mean_1500',\n",
              " 'Crystal Position_std_1500',\n",
              " 'Fundamental Freq_mean_1500',\n",
              " 'Fundamental Freq_std_1500',\n",
              " 'Speed_RHEED_mean_1500',\n",
              " 'Speed_RHEED_std_1500',\n",
              " 'Length_RHEED_mean_1500',\n",
              " 'Length_RHEED_std_1500',\n",
              " 'Length_RHEED_median_1500',\n",
              " 'Length_RHEED_min_1500',\n",
              " 'Length_RHEED_max_1500',\n",
              " 'Speed_mean_1500',\n",
              " 'Speed_std_1500',\n",
              " 'Coolness_RHEED_mean_3000',\n",
              " 'Coolness_RHEED_std_3000',\n",
              " 'Coolness_RHEED_median_3000',\n",
              " 'Coolness_RHEED_min_3000',\n",
              " 'Coolness_RHEED_max_3000',\n",
              " 'R FWHM_RHEED_mean_3000',\n",
              " 'R FWHM_RHEED_std_3000',\n",
              " 'R FWHM_RHEED_median_3000',\n",
              " 'R FWHM_RHEED_min_3000',\n",
              " 'R FWHM_RHEED_max_3000',\n",
              " 'X FWHM_RHEED_mean_3000',\n",
              " 'X FWHM_RHEED_std_3000',\n",
              " 'X FWHM_RHEED_median_3000',\n",
              " 'X FWHM_RHEED_min_3000',\n",
              " 'X FWHM_RHEED_max_3000',\n",
              " 'Y FWHM_RHEED_mean_3000',\n",
              " 'Y FWHM_RHEED_std_3000',\n",
              " 'Y FWHM_RHEED_median_3000',\n",
              " 'Y FWHM_RHEED_min_3000',\n",
              " 'Y FWHM_RHEED_max_3000',\n",
              " 'Filtered Rate_mean_3000',\n",
              " 'Filtered Rate_std_3000',\n",
              " 'Raw Rate_mean_3000',\n",
              " 'Raw Rate_std_3000',\n",
              " 'Source Power_mean_3000',\n",
              " 'Source Power_std_3000',\n",
              " 'Crystal Position_mean_3000',\n",
              " 'Crystal Position_std_3000',\n",
              " 'Fundamental Freq_mean_3000',\n",
              " 'Fundamental Freq_std_3000',\n",
              " 'Speed_RHEED_mean_3000',\n",
              " 'Speed_RHEED_std_3000',\n",
              " 'Length_RHEED_mean_3000',\n",
              " 'Length_RHEED_std_3000',\n",
              " 'Length_RHEED_median_3000',\n",
              " 'Length_RHEED_min_3000',\n",
              " 'Length_RHEED_max_3000',\n",
              " 'Speed_mean_3000',\n",
              " 'Speed_std_3000']"
            ]
          },
          "metadata": {
            "tags": []
          },
          "execution_count": 9
        }
      ]
    },
    {
      "cell_type": "code",
      "metadata": {
        "id": "GGBmAXDpbX7T"
      },
      "source": [
        "X = df.iloc[:-435]\n",
        "y = rheed_long['target'].iloc[3000:-435]"
      ],
      "execution_count": 10,
      "outputs": []
    },
    {
      "cell_type": "code",
      "metadata": {
        "colab": {
          "base_uri": "https://localhost:8080/"
        },
        "id": "x2oxIQedAiMe",
        "outputId": "ddec4a3b-4b06-46fd-e7e7-0fd45a2c4f73"
      },
      "source": [
        "X.shape, y.shape"
      ],
      "execution_count": 11,
      "outputs": [
        {
          "output_type": "execute_result",
          "data": {
            "text/plain": [
              "((2360337, 238), (2360337,))"
            ]
          },
          "metadata": {
            "tags": []
          },
          "execution_count": 11
        }
      ]
    },
    {
      "cell_type": "code",
      "metadata": {
        "colab": {
          "base_uri": "https://localhost:8080/",
          "height": 340
        },
        "id": "Yn4Omd-lOljE",
        "outputId": "b3cdfa72-d753-411b-ec74-2d9de1a0321b"
      },
      "source": [
        "plt.figure(figsize=(12, 5))\r\n",
        "st = np.random.randint(0, 10e5, (1,)).reshape(-1)[0]\r\n",
        "y[st:st+435].plot()"
      ],
      "execution_count": 39,
      "outputs": [
        {
          "output_type": "execute_result",
          "data": {
            "text/plain": [
              "<matplotlib.axes._subplots.AxesSubplot at 0x7f7aca79d850>"
            ]
          },
          "metadata": {
            "tags": []
          },
          "execution_count": 39
        },
        {
          "output_type": "display_data",
          "data": {
            "image/png": "[encoded data removed]",
            "text/plain": [
              "<Figure size 864x360 with 1 Axes>"
            ]
          },
          "metadata": {
            "tags": []
          }
        }
      ]
    },
    {
      "cell_type": "code",
      "metadata": {
        "id": "FqoPDjzqILRE"
      },
      "source": [
        "correlations = df.apply(lambda x: x.corr(y))"
      ],
      "execution_count": 13,
      "outputs": []
    },
    {
      "cell_type": "code",
      "metadata": {
        "colab": {
          "base_uri": "https://localhost:8080/"
        },
        "id": "Gc-n1OLnKO-B",
        "outputId": "6f5f83fe-c667-4449-b91d-55c600286870"
      },
      "source": [
        "correlations.abs().sort_values()[-50:]"
      ],
      "execution_count": 17,
      "outputs": [
        {
          "output_type": "execute_result",
          "data": {
            "text/plain": [
              "roll_mean_1505                0.236067\n",
              "R FWHM_RHEED_std_1200         0.241575\n",
              "Coolness_RHEED_median_3000    0.244210\n",
              "X FWHM_RHEED_min_500          0.245272\n",
              "Y FWHM_RHEED_min_50           0.246120\n",
              "Coolness_RHEED_median_4000    0.246413\n",
              "Coolness_RHEED_mean_2000      0.246836\n",
              "roll_mean_2005                0.246951\n",
              "X FWHM_RHEED_min_425          0.247457\n",
              "X FWHM_RHEED_min_100          0.249681\n",
              "R FWHM_RHEED_min_100          0.250497\n",
              "Y FWHM_RHEED_min_500          0.252488\n",
              "R FWHM_RHEED_min_500          0.252712\n",
              "X FWHM_RHEED_min_250          0.253998\n",
              "R FWHM_RHEED_min_425          0.254747\n",
              "Y FWHM_RHEED_min_425          0.254917\n",
              "roll_mean_2505                0.255662\n",
              "R FWHM_RHEED_min_250          0.259484\n",
              "Length_RHEED_std_4000         0.260369\n",
              "Coolness_RHEED_mean_3000      0.260999\n",
              "roll_mean_3005                0.261040\n",
              "Y FWHM_RHEED_min_100          0.261307\n",
              "Y FWHM_RHEED_min_250          0.263137\n",
              "roll_mean_3505                0.263494\n",
              "Coolness_RHEED_mean_4000      0.264074\n",
              "Coolness_RHEED_min_500        0.275000\n",
              "Coolness_RHEED_min_425        0.279689\n",
              "Coolness_RHEED_min_50         0.286955\n",
              "Y FWHM_RHEED_std_500          0.287340\n",
              "X FWHM_RHEED_std_500          0.287414\n",
              "X FWHM_RHEED_std_425          0.292272\n",
              "Y FWHM_RHEED_std_425          0.293149\n",
              "X FWHM_RHEED_std_50           0.293552\n",
              "Coolness_RHEED_min_250        0.293721\n",
              "Y FWHM_RHEED_std_50           0.294110\n",
              "Coolness_RHEED_min_100        0.299312\n",
              "Coolness_RHEED_std_50         0.302241\n",
              "R FWHM_RHEED_std_500          0.303652\n",
              "X FWHM_RHEED_std_250          0.304123\n",
              "Coolness_RHEED_std_500        0.305552\n",
              "Y FWHM_RHEED_std_250          0.306316\n",
              "R FWHM_RHEED_std_50           0.307403\n",
              "R FWHM_RHEED_std_425          0.309560\n",
              "Coolness_RHEED_std_425        0.313225\n",
              "X FWHM_RHEED_std_100          0.316415\n",
              "Y FWHM_RHEED_std_100          0.317688\n",
              "R FWHM_RHEED_std_250          0.323148\n",
              "Coolness_RHEED_std_250        0.326535\n",
              "R FWHM_RHEED_std_100          0.330997\n",
              "Coolness_RHEED_std_100        0.331933\n",
              "dtype: float64"
            ]
          },
          "metadata": {
            "tags": []
          },
          "execution_count": 17
        }
      ]
    },
    {
      "cell_type": "code",
      "metadata": {
        "id": "i8TgBU3E0iEn"
      },
      "source": [
        "#y[ma_coolness.shift(-435) == 0] = 1"
      ],
      "execution_count": 16,
      "outputs": []
    },
    {
      "cell_type": "code",
      "metadata": {
        "id": "t12J3RpO5dQF",
        "colab": {
          "base_uri": "https://localhost:8080/"
        },
        "outputId": "4490bc18-d548-4b64-b2b3-58d901062c14"
      },
      "source": [
        "y"
      ],
      "execution_count": 17,
      "outputs": [
        {
          "output_type": "execute_result",
          "data": {
            "text/plain": [
              "3500       10.612\n",
              "3501       10.554\n",
              "3502       10.496\n",
              "3503       10.422\n",
              "3504       10.364\n",
              "            ...  \n",
              "2363332     0.000\n",
              "2363333     0.000\n",
              "2363334     0.000\n",
              "2363335     0.000\n",
              "2363336     0.000\n",
              "Name: target, Length: 2359837, dtype: float64"
            ]
          },
          "metadata": {
            "tags": []
          },
          "execution_count": 17
        }
      ]
    },
    {
      "cell_type": "code",
      "metadata": {
        "id": "rtlAB6LSFvWm"
      },
      "source": [
        "sample_probas = softmax(y)"
      ],
      "execution_count": 18,
      "outputs": []
    },
    {
      "cell_type": "code",
      "metadata": {
        "id": "KxelO5y6F4pt"
      },
      "source": [
        "y_sampled = y.sample(1250000, weights=sample_probas, random_state=1234)"
      ],
      "execution_count": 19,
      "outputs": []
    },
    {
      "cell_type": "code",
      "metadata": {
        "colab": {
          "base_uri": "https://localhost:8080/",
          "height": 286
        },
        "id": "FJ9OTzpFGBqY",
        "outputId": "79dbd10f-66d0-4c0d-e3ab-5fef722c856a"
      },
      "source": [
        "plt.figure(figsize=(20, 7))\r\n",
        "y_sampled.hist(bins=100)"
      ],
      "execution_count": 20,
      "outputs": [
        {
          "output_type": "execute_result",
          "data": {
            "text/plain": [
              "<matplotlib.axes._subplots.AxesSubplot at 0x7f54ed1edd50>"
            ]
          },
          "metadata": {
            "tags": []
          },
          "execution_count": 20
        },
        {
          "output_type": "display_data",
          "data": {
            "image/png": "[encoded data removed]",
            "text/plain": [
              "<Figure size 1440x504 with 1 Axes>"
            ]
          },
          "metadata": {
            "tags": []
          }
        }
      ]
    },
    {
      "cell_type": "code",
      "metadata": {
        "colab": {
          "base_uri": "https://localhost:8080/"
        },
        "id": "_zDxcXECLa99",
        "outputId": "b38b71f9-ab50-44ad-f4bb-94e2c21983bb"
      },
      "source": [
        "(y_sampled < 5).sum()"
      ],
      "execution_count": 21,
      "outputs": [
        {
          "output_type": "execute_result",
          "data": {
            "text/plain": [
              "1143922"
            ]
          },
          "metadata": {
            "tags": []
          },
          "execution_count": 21
        }
      ]
    },
    {
      "cell_type": "code",
      "metadata": {
        "scrolled": true,
        "id": "rUCubguHbX7T",
        "colab": {
          "base_uri": "https://localhost:8080/"
        },
        "outputId": "7ac69425-52a5-4b1f-ae06-4e109854cb5d"
      },
      "source": [
        "# ratio = 5\n",
        "# y_sampled = pd.concat((y[y==0].sample(y.value_counts()[1]*ratio, replace=False, random_state=0),\n",
        "#                        y[y==1]), axis=0)\n",
        "# X_sampled = X.loc[y_sampled.index]\n",
        "\n",
        "#X_train, X_val, y_train, y_val = train_test_split(X_sampled, y_sampled, test_size=0.25, shuffle=True, stratify=y_sampled, random_state=0)\n",
        "model = catboost.CatBoostRegressor(\n",
        "    iterations=350,\n",
        "    #task_type=\"GPU\",\n",
        "    #eval_metric='AUC',\n",
        "    verbose=50\n",
        ")\n",
        "model.fit(X, y)#, eval_set=(X_val, y_val))"
      ],
      "execution_count": 15,
      "outputs": [
        {
          "output_type": "stream",
          "text": [
            "Learning rate set to 0.345381\n",
            "0:\tlearn: 5.0416775\ttotal: 560ms\tremaining: 3m 15s\n",
            "50:\tlearn: 2.7015042\ttotal: 35.7s\tremaining: 3m 29s\n",
            "100:\tlearn: 2.0318865\ttotal: 1m 12s\tremaining: 2m 58s\n",
            "150:\tlearn: 1.7023259\ttotal: 1m 49s\tremaining: 2m 24s\n",
            "200:\tlearn: 1.5111623\ttotal: 2m 27s\tremaining: 1m 49s\n",
            "250:\tlearn: 1.3809914\ttotal: 3m 5s\tremaining: 1m 13s\n",
            "300:\tlearn: 1.2928073\ttotal: 3m 43s\tremaining: 36.4s\n",
            "349:\tlearn: 1.2131546\ttotal: 4m 23s\tremaining: 0us\n"
          ],
          "name": "stdout"
        },
        {
          "output_type": "execute_result",
          "data": {
            "text/plain": [
              "<catboost.core.CatBoostRegressor at 0x7f6a2efb3610>"
            ]
          },
          "metadata": {
            "tags": []
          },
          "execution_count": 15
        }
      ]
    },
    {
      "cell_type": "code",
      "metadata": {
        "id": "X2g1ACaKbX7T"
      },
      "source": [
        "with open(global_path+'model.pkl', 'wb') as f:\n",
        "    pickle.dump(model, f)"
      ],
      "execution_count": 16,
      "outputs": []
    },
    {
      "cell_type": "code",
      "metadata": {
        "id": "8wlXcVkIE-CV"
      },
      "source": [
        "with open(global_path+'model.pkl', 'rb') as f:\r\n",
        "    model = pickle.load(f)"
      ],
      "execution_count": null,
      "outputs": []
    },
    {
      "cell_type": "code",
      "metadata": {
        "colab": {
          "base_uri": "https://localhost:8080/",
          "height": 1000
        },
        "id": "E226JpXWFUbo",
        "outputId": "bd8b810d-7957-482c-a172-6c6bd8b6f9da"
      },
      "source": [
        "model.get_feature_importance(prettified=True)[:50]#['Feature Id'].values.tolist().index('Coolness_RHEED_3500')"
      ],
      "execution_count": 17,
      "outputs": [
        {
          "output_type": "execute_result",
          "data": {
            "text/html": [
              "<div>\n",
              "<style scoped>\n",
              "    .dataframe tbody tr th:only-of-type {\n",
              "        vertical-align: middle;\n",
              "    }\n",
              "\n",
              "    .dataframe tbody tr th {\n",
              "        vertical-align: top;\n",
              "    }\n",
              "\n",
              "    .dataframe thead th {\n",
              "        text-align: right;\n",
              "    }\n",
              "</style>\n",
              "<table border=\"1\" class=\"dataframe\">\n",
              "  <thead>\n",
              "    <tr style=\"text-align: right;\">\n",
              "      <th></th>\n",
              "      <th>Feature Id</th>\n",
              "      <th>Importances</th>\n",
              "    </tr>\n",
              "  </thead>\n",
              "  <tbody>\n",
              "    <tr>\n",
              "      <th>0</th>\n",
              "      <td>Length_RHEED_max_1500</td>\n",
              "      <td>4.027300</td>\n",
              "    </tr>\n",
              "    <tr>\n",
              "      <th>1</th>\n",
              "      <td>Length_RHEED_mean_3000</td>\n",
              "      <td>3.553572</td>\n",
              "    </tr>\n",
              "    <tr>\n",
              "      <th>2</th>\n",
              "      <td>Length_RHEED_mean_75_back_75</td>\n",
              "      <td>3.387760</td>\n",
              "    </tr>\n",
              "    <tr>\n",
              "      <th>3</th>\n",
              "      <td>Coolness_RHEED_std_500</td>\n",
              "      <td>2.855862</td>\n",
              "    </tr>\n",
              "    <tr>\n",
              "      <th>4</th>\n",
              "      <td>Coolness_RHEED_median_75</td>\n",
              "      <td>2.548180</td>\n",
              "    </tr>\n",
              "    <tr>\n",
              "      <th>5</th>\n",
              "      <td>X FWHM_RHEED_mean_75</td>\n",
              "      <td>2.427145</td>\n",
              "    </tr>\n",
              "    <tr>\n",
              "      <th>6</th>\n",
              "      <td>Coolness_RHEED_std_75</td>\n",
              "      <td>2.291763</td>\n",
              "    </tr>\n",
              "    <tr>\n",
              "      <th>7</th>\n",
              "      <td>Length_RHEED_max_3000</td>\n",
              "      <td>2.230936</td>\n",
              "    </tr>\n",
              "    <tr>\n",
              "      <th>8</th>\n",
              "      <td>Fundamental Freq_mean_3000</td>\n",
              "      <td>1.761461</td>\n",
              "    </tr>\n",
              "    <tr>\n",
              "      <th>9</th>\n",
              "      <td>Crystal Position_mean_3000</td>\n",
              "      <td>1.654401</td>\n",
              "    </tr>\n",
              "    <tr>\n",
              "      <th>10</th>\n",
              "      <td>Source Power_std_3000</td>\n",
              "      <td>1.640694</td>\n",
              "    </tr>\n",
              "    <tr>\n",
              "      <th>11</th>\n",
              "      <td>Y FWHM_RHEED_max_1500</td>\n",
              "      <td>1.628615</td>\n",
              "    </tr>\n",
              "    <tr>\n",
              "      <th>12</th>\n",
              "      <td>Length_RHEED_median_1500</td>\n",
              "      <td>1.565122</td>\n",
              "    </tr>\n",
              "    <tr>\n",
              "      <th>13</th>\n",
              "      <td>Speed_RHEED_std_500</td>\n",
              "      <td>1.553840</td>\n",
              "    </tr>\n",
              "    <tr>\n",
              "      <th>14</th>\n",
              "      <td>Source Power</td>\n",
              "      <td>1.528460</td>\n",
              "    </tr>\n",
              "    <tr>\n",
              "      <th>15</th>\n",
              "      <td>R FWHM_RHEED_mean_3000</td>\n",
              "      <td>1.527665</td>\n",
              "    </tr>\n",
              "    <tr>\n",
              "      <th>16</th>\n",
              "      <td>Fundamental Freq_mean_500</td>\n",
              "      <td>1.369112</td>\n",
              "    </tr>\n",
              "    <tr>\n",
              "      <th>17</th>\n",
              "      <td>Raw Rate_mean_500</td>\n",
              "      <td>1.295935</td>\n",
              "    </tr>\n",
              "    <tr>\n",
              "      <th>18</th>\n",
              "      <td>Coolness_RHEED_mean_75</td>\n",
              "      <td>1.187730</td>\n",
              "    </tr>\n",
              "    <tr>\n",
              "      <th>19</th>\n",
              "      <td>Speed_mean_1500</td>\n",
              "      <td>1.137069</td>\n",
              "    </tr>\n",
              "    <tr>\n",
              "      <th>20</th>\n",
              "      <td>Coolness_RHEED_min_3000</td>\n",
              "      <td>1.089700</td>\n",
              "    </tr>\n",
              "    <tr>\n",
              "      <th>21</th>\n",
              "      <td>Source Power_mean_3000</td>\n",
              "      <td>1.085733</td>\n",
              "    </tr>\n",
              "    <tr>\n",
              "      <th>22</th>\n",
              "      <td>R FWHM_RHEED_mean_1500</td>\n",
              "      <td>1.068009</td>\n",
              "    </tr>\n",
              "    <tr>\n",
              "      <th>23</th>\n",
              "      <td>Y FWHM_RHEED_median_75</td>\n",
              "      <td>1.060721</td>\n",
              "    </tr>\n",
              "    <tr>\n",
              "      <th>24</th>\n",
              "      <td>Raw Rate_std_3000</td>\n",
              "      <td>1.025409</td>\n",
              "    </tr>\n",
              "    <tr>\n",
              "      <th>25</th>\n",
              "      <td>Speed_RHEED_std_3000</td>\n",
              "      <td>0.990330</td>\n",
              "    </tr>\n",
              "    <tr>\n",
              "      <th>26</th>\n",
              "      <td>Coolness_RHEED</td>\n",
              "      <td>0.982158</td>\n",
              "    </tr>\n",
              "    <tr>\n",
              "      <th>27</th>\n",
              "      <td>Crystal Position_std_1500</td>\n",
              "      <td>0.924034</td>\n",
              "    </tr>\n",
              "    <tr>\n",
              "      <th>28</th>\n",
              "      <td>Length_RHEED_mean_1500</td>\n",
              "      <td>0.865240</td>\n",
              "    </tr>\n",
              "    <tr>\n",
              "      <th>29</th>\n",
              "      <td>Filtered Rate_mean_3000</td>\n",
              "      <td>0.856360</td>\n",
              "    </tr>\n",
              "    <tr>\n",
              "      <th>30</th>\n",
              "      <td>X FWHM_RHEED_mean_1500</td>\n",
              "      <td>0.850349</td>\n",
              "    </tr>\n",
              "    <tr>\n",
              "      <th>31</th>\n",
              "      <td>Coolness_RHEED_min_1500</td>\n",
              "      <td>0.831237</td>\n",
              "    </tr>\n",
              "    <tr>\n",
              "      <th>32</th>\n",
              "      <td>Length_RHEED_mean_75_back_300</td>\n",
              "      <td>0.817520</td>\n",
              "    </tr>\n",
              "    <tr>\n",
              "      <th>33</th>\n",
              "      <td>Filtered Rate_std_1500</td>\n",
              "      <td>0.810762</td>\n",
              "    </tr>\n",
              "    <tr>\n",
              "      <th>34</th>\n",
              "      <td>Coolness_RHEED_std_75_back_375</td>\n",
              "      <td>0.773884</td>\n",
              "    </tr>\n",
              "    <tr>\n",
              "      <th>35</th>\n",
              "      <td>R FWHM_RHEED_std_3000</td>\n",
              "      <td>0.773488</td>\n",
              "    </tr>\n",
              "    <tr>\n",
              "      <th>36</th>\n",
              "      <td>Coolness_RHEED_max_3000</td>\n",
              "      <td>0.752702</td>\n",
              "    </tr>\n",
              "    <tr>\n",
              "      <th>37</th>\n",
              "      <td>Length_RHEED_median_75</td>\n",
              "      <td>0.740352</td>\n",
              "    </tr>\n",
              "    <tr>\n",
              "      <th>38</th>\n",
              "      <td>R FWHM_RHEED_max_1500</td>\n",
              "      <td>0.737906</td>\n",
              "    </tr>\n",
              "    <tr>\n",
              "      <th>39</th>\n",
              "      <td>Coolness_RHEED_std_1500</td>\n",
              "      <td>0.720734</td>\n",
              "    </tr>\n",
              "    <tr>\n",
              "      <th>40</th>\n",
              "      <td>Length_RHEED_median_3000</td>\n",
              "      <td>0.719855</td>\n",
              "    </tr>\n",
              "    <tr>\n",
              "      <th>41</th>\n",
              "      <td>Length_RHEED_std_1500</td>\n",
              "      <td>0.713499</td>\n",
              "    </tr>\n",
              "    <tr>\n",
              "      <th>42</th>\n",
              "      <td>Length_RHEED_std_3000</td>\n",
              "      <td>0.687884</td>\n",
              "    </tr>\n",
              "    <tr>\n",
              "      <th>43</th>\n",
              "      <td>Speed_std_500</td>\n",
              "      <td>0.682640</td>\n",
              "    </tr>\n",
              "    <tr>\n",
              "      <th>44</th>\n",
              "      <td>Coolness_RHEED_mean_1500</td>\n",
              "      <td>0.639643</td>\n",
              "    </tr>\n",
              "    <tr>\n",
              "      <th>45</th>\n",
              "      <td>Y FWHM_RHEED_mean_3000</td>\n",
              "      <td>0.639409</td>\n",
              "    </tr>\n",
              "    <tr>\n",
              "      <th>46</th>\n",
              "      <td>Y FWHM_RHEED_max_3000</td>\n",
              "      <td>0.635406</td>\n",
              "    </tr>\n",
              "    <tr>\n",
              "      <th>47</th>\n",
              "      <td>Length_RHEED_min_1500</td>\n",
              "      <td>0.624797</td>\n",
              "    </tr>\n",
              "    <tr>\n",
              "      <th>48</th>\n",
              "      <td>Raw Rate_mean_75</td>\n",
              "      <td>0.623151</td>\n",
              "    </tr>\n",
              "    <tr>\n",
              "      <th>49</th>\n",
              "      <td>Coolness_RHEED_max_500</td>\n",
              "      <td>0.617414</td>\n",
              "    </tr>\n",
              "  </tbody>\n",
              "</table>\n",
              "</div>"
            ],
            "text/plain": [
              "                        Feature Id  Importances\n",
              "0            Length_RHEED_max_1500     4.027300\n",
              "1           Length_RHEED_mean_3000     3.553572\n",
              "2     Length_RHEED_mean_75_back_75     3.387760\n",
              "3           Coolness_RHEED_std_500     2.855862\n",
              "4         Coolness_RHEED_median_75     2.548180\n",
              "5             X FWHM_RHEED_mean_75     2.427145\n",
              "6            Coolness_RHEED_std_75     2.291763\n",
              "7            Length_RHEED_max_3000     2.230936\n",
              "8       Fundamental Freq_mean_3000     1.761461\n",
              "9       Crystal Position_mean_3000     1.654401\n",
              "10           Source Power_std_3000     1.640694\n",
              "11           Y FWHM_RHEED_max_1500     1.628615\n",
              "12        Length_RHEED_median_1500     1.565122\n",
              "13             Speed_RHEED_std_500     1.553840\n",
              "14                    Source Power     1.528460\n",
              "15          R FWHM_RHEED_mean_3000     1.527665\n",
              "16       Fundamental Freq_mean_500     1.369112\n",
              "17               Raw Rate_mean_500     1.295935\n",
              "18          Coolness_RHEED_mean_75     1.187730\n",
              "19                 Speed_mean_1500     1.137069\n",
              "20         Coolness_RHEED_min_3000     1.089700\n",
              "21          Source Power_mean_3000     1.085733\n",
              "22          R FWHM_RHEED_mean_1500     1.068009\n",
              "23          Y FWHM_RHEED_median_75     1.060721\n",
              "24               Raw Rate_std_3000     1.025409\n",
              "25            Speed_RHEED_std_3000     0.990330\n",
              "26                  Coolness_RHEED     0.982158\n",
              "27       Crystal Position_std_1500     0.924034\n",
              "28          Length_RHEED_mean_1500     0.865240\n",
              "29         Filtered Rate_mean_3000     0.856360\n",
              "30          X FWHM_RHEED_mean_1500     0.850349\n",
              "31         Coolness_RHEED_min_1500     0.831237\n",
              "32   Length_RHEED_mean_75_back_300     0.817520\n",
              "33          Filtered Rate_std_1500     0.810762\n",
              "34  Coolness_RHEED_std_75_back_375     0.773884\n",
              "35           R FWHM_RHEED_std_3000     0.773488\n",
              "36         Coolness_RHEED_max_3000     0.752702\n",
              "37          Length_RHEED_median_75     0.740352\n",
              "38           R FWHM_RHEED_max_1500     0.737906\n",
              "39         Coolness_RHEED_std_1500     0.720734\n",
              "40        Length_RHEED_median_3000     0.719855\n",
              "41           Length_RHEED_std_1500     0.713499\n",
              "42           Length_RHEED_std_3000     0.687884\n",
              "43                   Speed_std_500     0.682640\n",
              "44        Coolness_RHEED_mean_1500     0.639643\n",
              "45          Y FWHM_RHEED_mean_3000     0.639409\n",
              "46           Y FWHM_RHEED_max_3000     0.635406\n",
              "47           Length_RHEED_min_1500     0.624797\n",
              "48                Raw Rate_mean_75     0.623151\n",
              "49          Coolness_RHEED_max_500     0.617414"
            ]
          },
          "metadata": {
            "tags": []
          },
          "execution_count": 17
        }
      ]
    },
    {
      "cell_type": "code",
      "metadata": {
        "id": "N9I277EHL5JU"
      },
      "source": [
        "trans = lambda x: 1 / (1 + np.exp(-x + 5))\r\n",
        "plt.plot(np.linspace(0, 10, 1000), trans(np.linspace(0, 10, 1000)))"
      ],
      "execution_count": null,
      "outputs": []
    },
    {
      "cell_type": "code",
      "metadata": {
        "id": "QFHi7PH3bX7U"
      },
      "source": [
        "sklearn.metrics.plot_confusion_matrix(model, X_train, y_train, normalize='all')  # doctest: +SKIP\n",
        "plt.show()  # doctest: +SKIP"
      ],
      "execution_count": null,
      "outputs": []
    },
    {
      "cell_type": "code",
      "metadata": {
        "id": "BFhXElBmbX7U"
      },
      "source": [
        "sklearn.metrics.plot_confusion_matrix(model, X_val, y_val,normalize='all')  # doctest: +SKIP\n",
        "plt.show()  # doctest: +SKIP"
      ],
      "execution_count": null,
      "outputs": []
    },
    {
      "cell_type": "code",
      "metadata": {
        "id": "6mm4asGwbX7V"
      },
      "source": [
        "fpr, tpr, _ = sklearn.metrics.roc_curve(y_val, model.predict_proba(X_val)[:,1])\n",
        "roc_auc = sklearn.metrics.roc_auc_score(y_val, model.predict_proba(X_val)[:,1])\n",
        "plt.figure()\n",
        "lw = 2\n",
        "plt.plot(fpr, tpr,color='darkorange', lw=lw, label='ROC curve (area = %0.2f)' % roc_auc)\n",
        "plt.plot([0, 1], [0, 1], color='navy', lw=lw, linestyle='--')\n",
        "plt.xlim([0.0, 1.0])\n",
        "plt.ylim([0.0, 1.05])\n",
        "plt.xlabel('False Positive Rate')\n",
        "plt.ylabel('True Positive Rate')\n",
        "plt.title('Receiver operating characteristic example')\n",
        "plt.legend(loc=\"lower right\")\n",
        "plt.show()"
      ],
      "execution_count": null,
      "outputs": []
    },
    {
      "cell_type": "code",
      "metadata": {
        "id": "TAcsaXyabX7V"
      },
      "source": [
        "fpr, tpr, _ = sklearn.metrics.roc_curve(y_train, model.predict_proba(X_train)[:,1])\n",
        "roc_auc = sklearn.metrics.roc_auc_score(y_train, model.predict_proba(X_train)[:,1])\n",
        "plt.figure()\n",
        "lw = 2\n",
        "plt.plot(fpr, tpr,color='darkorange', lw=lw, label='ROC curve (area = %0.2f)' % roc_auc)\n",
        "plt.plot([0, 1], [0, 1], color='navy', lw=lw, linestyle='--')\n",
        "plt.xlim([0.0, 1.0])\n",
        "plt.ylim([0.0, 1.05])\n",
        "plt.xlabel('False Positive Rate')\n",
        "plt.ylabel('True Positive Rate')\n",
        "plt.title('Receiver operating characteristic example')\n",
        "plt.legend(loc=\"lower right\")\n",
        "plt.show()"
      ],
      "execution_count": null,
      "outputs": []
    },
    {
      "cell_type": "code",
      "metadata": {
        "id": "gXWgJ1dybX7V"
      },
      "source": [
        "model.get_feature_importance(prettified=True)[:50]"
      ],
      "execution_count": null,
      "outputs": []
    },
    {
      "cell_type": "code",
      "metadata": {
        "id": "PMYeg5I_N-DM"
      },
      "source": [
        "pr = submission.Predictor()"
      ],
      "execution_count": 23,
      "outputs": []
    },
    {
      "cell_type": "code",
      "metadata": {
        "colab": {
          "base_uri": "https://localhost:8080/"
        },
        "id": "f5Ry_5CqOcgb",
        "outputId": "b6609373-aa89-454d-b288-24885f896839"
      },
      "source": [
        "pr.forecast(rheed_long.iloc[-9000:])"
      ],
      "execution_count": 25,
      "outputs": [
        {
          "output_type": "execute_result",
          "data": {
            "text/plain": [
              "0.9999999999999958"
            ]
          },
          "metadata": {
            "tags": []
          },
          "execution_count": 25
        }
      ]
    },
    {
      "cell_type": "code",
      "metadata": {
        "id": "knox51DrLoLA"
      },
      "source": [
        ""
      ],
      "execution_count": null,
      "outputs": []
    }
  ]
}